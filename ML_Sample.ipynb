{
 "cells": [
  {
   "cell_type": "markdown",
   "metadata": {},
   "source": [
    "# Practica con sensor de turbidez virtual.\n",
    "## Hemos simulado el sensor de turbidez y las revoluciones en RPM en la hoja de calculo "
   ]
  },
  {
   "cell_type": "code",
   "execution_count": null,
   "metadata": {},
   "outputs": [],
   "source": [
    "!pip install pandas\n",
    "!pip install xlrd\n",
    "!pip install sklearn\n",
    "!pip install imblearn"
   ]
  },
  {
   "cell_type": "code",
   "execution_count": 2,
   "metadata": {},
   "outputs": [],
   "source": [
    "import xlrd\n",
    "book = xlrd.open_workbook(\"Data_Example.xlsx\")\n",
    "sheetSample = book.sheet_by_name(\"sampleDB\")"
   ]
  },
  {
   "cell_type": "code",
   "execution_count": 19,
   "metadata": {},
   "outputs": [
    {
     "name": "stdout",
     "output_type": "stream",
     "text": [
      "---- Sensor turbidez (NTU) ----  ----------------------- MOTOR (RPM) ------------------------\n",
      "1.0 \t 2.0 \t 3.0 \t 4.0 \t 1 \t 2 \t 3 \t 4 \t 5 \t 6 \t 7 \t 8\n",
      "0.54 \t 0.06 \t 0.75 \t 0.85 \t 768 \t 768 \t 538 \t 538 \t 869 \t 869 \t 917 \t 917\n",
      "0.8 \t 0.26 \t 0.41 \t 0.42 \t 893 \t 893 \t 634 \t 634 \t 706 \t 706 \t 711 \t 711\n",
      "0.42 \t 0.88 \t 0.17 \t 0.42 \t 711 \t 711 \t 931 \t 931 \t 591 \t 591 \t 711 \t 711\n",
      "0.66 \t 0.26 \t 0.66 \t 0.74 \t 826 \t 826 \t 634 \t 634 \t 826 \t 826 \t 864 \t 864\n",
      "0.91 \t 0.17 \t 0.13 \t 0.4 \t 946 \t 946 \t 591 \t 591 \t 571 \t 571 \t 701 \t 701\n",
      "0.24 \t 0.2 \t 0.43 \t 1.0 \t 624 \t 624 \t 605 \t 605 \t 715 \t 715 \t 989 \t 989\n",
      "0.85 \t 0.81 \t 0.05 \t 0.39 \t 917 \t 917 \t 898 \t 898 \t 533 \t 533 \t 696 \t 696\n",
      "0.31 \t 0.39 \t 0.07 \t 0.68 \t 658 \t 658 \t 696 \t 696 \t 543 \t 543 \t 835 \t 835\n",
      "0.49 \t 0.23 \t 0.19 \t 0.6 \t 744 \t 744 \t 619 \t 619 \t 600 \t 600 \t 797 \t 797\n",
      "0.82 \t 0.04 \t 0.75 \t 0.88 \t 903 \t 903 \t 528 \t 528 \t 869 \t 869 \t 931 \t 931\n",
      "0.4 \t 0.78 \t 0.83 \t 0.84 \t 701 \t 701 \t 883 \t 883 \t 907 \t 907 \t 912 \t 912\n",
      "0.99 \t 0.9 \t 0.61 \t 0.58 \t 984 \t 984 \t 941 \t 941 \t 802 \t 802 \t 787 \t 787\n",
      "0.83 \t 0.38 \t 0.31 \t 0.5 \t 907 \t 907 \t 691 \t 691 \t 658 \t 658 \t 749 \t 749\n",
      "0.76 \t 0.04 \t 0.04 \t 0.65 \t 874 \t 874 \t 528 \t 528 \t 528 \t 528 \t 821 \t 821\n",
      "0.24 \t 0.2 \t 0.53 \t 0.53 \t 624 \t 624 \t 605 \t 605 \t 763 \t 763 \t 763 \t 763\n",
      "0.16 \t 0.49 \t 0.91 \t 0.62 \t 586 \t 586 \t 744 \t 744 \t 946 \t 946 \t 807 \t 807\n",
      "0.82 \t 0.43 \t 0.16 \t 0.72 \t 903 \t 903 \t 715 \t 715 \t 586 \t 586 \t 855 \t 855\n",
      "0.15 \t 0.19 \t 0.0 \t 0.54 \t 581 \t 581 \t 600 \t 600 \t 509 \t 509 \t 768 \t 768\n",
      "0.56 \t 0.1 \t 0.12 \t 0.66 \t 778 \t 778 \t 557 \t 557 \t 567 \t 567 \t 826 \t 826\n",
      "0.01 \t 0.83 \t 0.19 \t 0.57 \t 514 \t 514 \t 907 \t 907 \t 600 \t 600 \t 783 \t 783\n"
     ]
    }
   ],
   "source": [
    "print(\"---- Sensor turbidez (NTU) ----  ----------------------- MOTOR (RPM) ------------------------\")\n",
    "for row_index in range(7,28): #reading first columns\n",
    "    Sensor1, Sensor2, Sensor3, Sensor4, Motor1, Motor2, Motor3, Motor4, Motor5, Motor6, Motor7, Motor8 = sheetSample.row_values(row_index, start_colx=0, end_colx=12)\n",
    "    print(round(Sensor1,2), \"\t\", round(Sensor2,2), \"\t\", round(Sensor3,2), \"\t\", round(Sensor4,2), \"\t\", round(Motor1), \"\t\", round(Motor2), \"\t\", round(Motor3), \"\t\", round(Motor4), \"\t\", round(Motor5), \"\t\", round(Motor6), \"\t\", round(Motor7), \"\t\", round(Motor8))"
   ]
  },
  {
   "cell_type": "code",
   "execution_count": 20,
   "metadata": {},
   "outputs": [],
   "source": [
    "Sensor1 = sheetSample.col_values(0)[7:]\n",
    "Sensor2 = sheetSample.col_values(1)[7:]\n",
    "Sensor3 = sheetSample.col_values(2)[7:]\n",
    "Sensor4 = sheetSample.col_values(3)[7:]\n",
    "\n",
    "Motor1 = sheetSample.col_values(4)[7:]\n",
    "Motor2 = sheetSample.col_values(5)[7:]\n",
    "Motor3 = sheetSample.col_values(6)[7:]\n",
    "Motor4 = sheetSample.col_values(7)[7:]\n",
    "Motor5 = sheetSample.col_values(8)[7:]\n",
    "Motor6 = sheetSample.col_values(9)[7:]\n",
    "Motor7 = sheetSample.col_values(10)[7:]\n",
    "Motor8 = sheetSample.col_values(11)[7:]"
   ]
  },
  {
   "cell_type": "code",
   "execution_count": 26,
   "metadata": {},
   "outputs": [
    {
     "name": "stdout",
     "output_type": "stream",
     "text": [
      "Datos para entrenar:  86\n",
      "Datos para probar:  22\n"
     ]
    }
   ],
   "source": [
    "import pandas as pd\n",
    "from sklearn.model_selection import train_test_split\n",
    "\n",
    "dataMotor12 = {'Sensor': Sensor1, 'Motor1': Motor1, 'Motor2': Motor2}\n",
    "dfMotor12 = pd.DataFrame(dataMotor12)\n",
    "train, test = train_test_split(dfMotor12, test_size=0.2)\n",
    "\n",
    "print(\"Datos para entrenar: \",len(train))\n",
    "print(\"Datos para probar: \",len(test))\n"
   ]
  },
  {
   "cell_type": "code",
   "execution_count": null,
   "metadata": {},
   "outputs": [],
   "source": [
    "#Model and train Motor12\n",
    "dataset2TrainH2 = dfMQ5_H2.copy()\n",
    "dataset2TrainH2.dropna(inplace=True)\n",
    "X_trainH2 = dataset2TrainH2.RsRo.apply(lambda x: [x]).tolist()\n",
    "y_trainH2 = dataset2TrainH2['H2'].tolist()\n",
    "model = linear_model.Lasso(alpha=0.1)\n",
    "model.fit(X_trainH2, y_trainH2)\n",
    "#Predict\n",
    "H2_Predicted = model.predict(X_Predict)\n",
    "#save into MQ2\n",
    "MQ5_H2 = H2_Predicted"
   ]
  }
 ],
 "metadata": {
  "kernelspec": {
   "display_name": "Python 3",
   "language": "python",
   "name": "python3"
  },
  "language_info": {
   "codemirror_mode": {
    "name": "ipython",
    "version": 3
   },
   "file_extension": ".py",
   "mimetype": "text/x-python",
   "name": "python",
   "nbconvert_exporter": "python",
   "pygments_lexer": "ipython3",
   "version": "3.7.3"
  }
 },
 "nbformat": 4,
 "nbformat_minor": 2
}
